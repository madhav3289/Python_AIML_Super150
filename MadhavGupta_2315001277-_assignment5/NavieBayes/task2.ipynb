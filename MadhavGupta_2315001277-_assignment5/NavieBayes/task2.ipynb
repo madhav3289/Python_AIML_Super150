{
 "cells": [
  {
   "cell_type": "markdown",
   "id": "7d0c9b42",
   "metadata": {},
   "source": [
    "# Task 2: Spam Detection using MultinomialNB"
   ]
  },
  {
   "cell_type": "markdown",
   "id": "0ac5aad8",
   "metadata": {},
   "source": [
    "- Load a text dataset (e.g., SMS Spam Collection or any public text \n",
    "dataset). \n",
    "- Preprocess using CountVectorizer or TfidfVectorizer. \n",
    "- Train a MultinomialNB classifier. \n",
    "- Evaluate: \n",
    "    - Accuracy \n",
    "    - Precision \n",
    "    - Recall \n",
    "    - Confusion Matrix "
   ]
  },
  {
   "cell_type": "code",
   "execution_count": 41,
   "id": "526177df",
   "metadata": {},
   "outputs": [],
   "source": [
    "import pandas as pd\n",
    "from sklearn.feature_extraction.text import TfidfVectorizer\n",
    "from sklearn.model_selection import train_test_split\n",
    "from sklearn.naive_bayes import MultinomialNB\n",
    "from sklearn.metrics import accuracy_score, precision_score, recall_score, confusion_matrix\n",
    "\n",
    "import seaborn as sns"
   ]
  },
  {
   "cell_type": "code",
   "execution_count": 77,
   "id": "d669841a",
   "metadata": {},
   "outputs": [
    {
     "data": {
      "text/html": [
       "<div>\n",
       "<style scoped>\n",
       "    .dataframe tbody tr th:only-of-type {\n",
       "        vertical-align: middle;\n",
       "    }\n",
       "\n",
       "    .dataframe tbody tr th {\n",
       "        vertical-align: top;\n",
       "    }\n",
       "\n",
       "    .dataframe thead th {\n",
       "        text-align: right;\n",
       "    }\n",
       "</style>\n",
       "<table border=\"1\" class=\"dataframe\">\n",
       "  <thead>\n",
       "    <tr style=\"text-align: right;\">\n",
       "      <th></th>\n",
       "      <th>label</th>\n",
       "      <th>message</th>\n",
       "    </tr>\n",
       "  </thead>\n",
       "  <tbody>\n",
       "    <tr>\n",
       "      <th>0</th>\n",
       "      <td>0</td>\n",
       "      <td>Go until jurong point, crazy.. Available only ...</td>\n",
       "    </tr>\n",
       "    <tr>\n",
       "      <th>1</th>\n",
       "      <td>0</td>\n",
       "      <td>Ok lar... Joking wif u oni...</td>\n",
       "    </tr>\n",
       "    <tr>\n",
       "      <th>2</th>\n",
       "      <td>1</td>\n",
       "      <td>Free entry in 2 a wkly comp to win FA Cup fina...</td>\n",
       "    </tr>\n",
       "    <tr>\n",
       "      <th>3</th>\n",
       "      <td>0</td>\n",
       "      <td>U dun say so early hor... U c already then say...</td>\n",
       "    </tr>\n",
       "    <tr>\n",
       "      <th>4</th>\n",
       "      <td>0</td>\n",
       "      <td>Nah I don't think he goes to usf, he lives aro...</td>\n",
       "    </tr>\n",
       "  </tbody>\n",
       "</table>\n",
       "</div>"
      ],
      "text/plain": [
       "   label                                            message\n",
       "0      0  Go until jurong point, crazy.. Available only ...\n",
       "1      0                      Ok lar... Joking wif u oni...\n",
       "2      1  Free entry in 2 a wkly comp to win FA Cup fina...\n",
       "3      0  U dun say so early hor... U c already then say...\n",
       "4      0  Nah I don't think he goes to usf, he lives aro..."
      ]
     },
     "execution_count": 77,
     "metadata": {},
     "output_type": "execute_result"
    }
   ],
   "source": [
    "# Load SMS Spam Collection dataset from https://www.kaggle.com/datasets/uciml/sms-spam-collection-dataset\n",
    "# took only first 2 column of dataset\n",
    "df = pd.read_csv(\"spam.csv\", encoding='latin-1')[['v1','v2']]\n",
    "\n",
    "# rename the column from v1 v2 to label message\n",
    "df.columns = ['label','message']\n",
    "\n",
    "# converted ham to 0 and spam to 1\n",
    "df['label'] = list(map(lambda mess:0 if mess=='ham' else 1,df['label']))\n",
    "\n",
    "# alternate of above line\n",
    "# df['label'] = df['label'].map({'ham':0,'spam':1})\n",
    "\n",
    "df.head()"
   ]
  },
  {
   "cell_type": "markdown",
   "id": "0f4f2771",
   "metadata": {},
   "source": [
    "    TF-IDF stands for Term Frequency–Inverse Document Frequency.\n",
    "    It transforms text into numerical features based on how important a word is in a document relative to the entire corpus.\n",
    "    Stop_words='english' removes common English words like \"the\", \"is\", \"and\", etc., which usually don't carry meaningful information for classification."
   ]
  },
  {
   "cell_type": "code",
   "execution_count": 78,
   "id": "226823ab",
   "metadata": {},
   "outputs": [
    {
     "data": {
      "text/plain": [
       "<Compressed Sparse Row sparse matrix of dtype 'float64'\n",
       "\twith 43478 stored elements and shape (5572, 8404)>"
      ]
     },
     "execution_count": 78,
     "metadata": {},
     "output_type": "execute_result"
    }
   ],
   "source": [
    "vectorizer = TfidfVectorizer(stop_words='english')\n",
    "X = vectorizer.fit_transform(df['message'])\n",
    "\n",
    "# y has label column in which spam:1 and ham:0\n",
    "y = df['label']\n",
    "X"
   ]
  },
  {
   "cell_type": "code",
   "execution_count": 79,
   "id": "cfd481d6",
   "metadata": {},
   "outputs": [
    {
     "name": "stdout",
     "output_type": "stream",
     "text": [
      "[0 0 0 0 1 0 0 0 0 0]\n"
     ]
    },
    {
     "data": {
      "text/plain": [
       "3245    0\n",
       "944     0\n",
       "1044    1\n",
       "2484    0\n",
       "812     1\n",
       "2973    0\n",
       "2991    0\n",
       "2942    0\n",
       "230     0\n",
       "1181    0\n",
       "Name: label, dtype: int64"
      ]
     },
     "execution_count": 79,
     "metadata": {},
     "output_type": "execute_result"
    }
   ],
   "source": [
    "X_train, X_test, y_train, y_test = train_test_split(X, y, test_size=0.2, random_state=42)\n",
    "\n",
    "model = MultinomialNB()\n",
    "model.fit(X_train,y_train)\n",
    "y_pred = model.predict(X_test)\n",
    "print(y_pred[:10])\n",
    "y_test.head(10)"
   ]
  },
  {
   "cell_type": "code",
   "execution_count": 80,
   "id": "b579d066",
   "metadata": {},
   "outputs": [
    {
     "name": "stdout",
     "output_type": "stream",
     "text": [
      "Accuracy: 0.968609865470852\n",
      "Precision: 1.0\n",
      "Recall: 0.7666666666666667\n",
      "Confusion Matrix:\n",
      " [[965   0]\n",
      " [ 35 115]]\n"
     ]
    }
   ],
   "source": [
    "accuracy = accuracy_score(y_test, y_pred)\n",
    "precision = precision_score(y_test, y_pred)\n",
    "recall = recall_score(y_test, y_pred)\n",
    "conf_matrix = confusion_matrix(y_test, y_pred)\n",
    "\n",
    "print(\"Accuracy:\", accuracy)\n",
    "print(\"Precision:\", precision)\n",
    "print(\"Recall:\", recall)\n",
    "print(\"Confusion Matrix:\\n\", conf_matrix)"
   ]
  },
  {
   "cell_type": "code",
   "execution_count": 81,
   "id": "aea37a7e",
   "metadata": {},
   "outputs": [
    {
     "data": {
      "text/plain": [
       "<Axes: >"
      ]
     },
     "execution_count": 81,
     "metadata": {},
     "output_type": "execute_result"
    },
    {
     "data": {
      "image/png": "[encoded data removed]",
      "text/plain": [
       "<Figure size 640x480 with 2 Axes>"
      ]
     },
     "metadata": {},
     "output_type": "display_data"
    }
   ],
   "source": [
    "sns.heatmap(conf_matrix , xticklabels=['Ham', 'Spam'], yticklabels=['Ham', 'Spam'] , annot=True)"
   ]
  },
  {
   "cell_type": "markdown",
   "id": "dbc0c9e3",
   "metadata": {},
   "source": [
    "## By count Vectorizer"
   ]
  },
  {
   "cell_type": "code",
   "execution_count": 74,
   "id": "4e807611",
   "metadata": {},
   "outputs": [
    {
     "name": "stdout",
     "output_type": "stream",
     "text": [
      "[0 0 1 0 1 0 0 0 0 0]\n"
     ]
    },
    {
     "data": {
      "text/plain": [
       "3245    0\n",
       "944     0\n",
       "1044    1\n",
       "2484    0\n",
       "812     1\n",
       "2973    0\n",
       "2991    0\n",
       "2942    0\n",
       "230     0\n",
       "1181    0\n",
       "Name: label, dtype: int64"
      ]
     },
     "execution_count": 74,
     "metadata": {},
     "output_type": "execute_result"
    }
   ],
   "source": [
    "from sklearn.feature_extraction.text import CountVectorizer\n",
    "\n",
    "# Vectorize text using CountVectorizer\n",
    "vectorizer = CountVectorizer(stop_words='english')\n",
    "X = vectorizer.fit_transform(df['message'])\n",
    "y = df['label']\n",
    "\n",
    "# Split data\n",
    "X_train, X_test, y_train, y_test = train_test_split(X, y, test_size=0.2, random_state=42)\n",
    "\n",
    "model2 = MultinomialNB()\n",
    "model2.fit(X_train,y_train)\n",
    "\n",
    "y_pred2 = model2.predict(X_test)\n",
    "\n",
    "print(y_pred2[:10])\n",
    "y_test.head(10)"
   ]
  },
  {
   "cell_type": "code",
   "execution_count": 75,
   "id": "46798fbd",
   "metadata": {},
   "outputs": [
    {
     "name": "stdout",
     "output_type": "stream",
     "text": [
      "Accuracy: 0.9802690582959641\n",
      "Precision: 0.9266666666666666\n",
      "Recall: 0.9266666666666666\n",
      "Confusion Matrix:\n",
      " [[954  11]\n",
      " [ 11 139]]\n"
     ]
    }
   ],
   "source": [
    "accuracy = accuracy_score(y_test, y_pred2)\n",
    "precision = precision_score(y_test, y_pred2)\n",
    "recall = recall_score(y_test, y_pred2)\n",
    "conf_matrix = confusion_matrix(y_test, y_pred2)\n",
    "\n",
    "print(\"Accuracy:\", accuracy)\n",
    "print(\"Precision:\", precision)\n",
    "print(\"Recall:\", recall)\n",
    "print(\"Confusion Matrix:\\n\", conf_matrix)"
   ]
  },
  {
   "cell_type": "code",
   "execution_count": 76,
   "id": "8b92fdc8",
   "metadata": {},
   "outputs": [
    {
     "data": {
      "text/plain": [
       "<Axes: >"
      ]
     },
     "execution_count": 76,
     "metadata": {},
     "output_type": "execute_result"
    },
    {
     "data": {
      "image/png": "[encoded data removed]",
      "text/plain": [
       "<Figure size 640x480 with 2 Axes>"
      ]
     },
     "metadata": {},
     "output_type": "display_data"
    }
   ],
   "source": [
    "sns.heatmap(conf_matrix,\n",
    " xticklabels=['Ham', 'Spam'], yticklabels=['Ham', 'Spam'])"
   ]
  }
 ],
 "metadata": {
  "kernelspec": {
   "display_name": "Python 3",
   "language": "python",
   "name": "python3"
  },
  "language_info": {
   "codemirror_mode": {
    "name": "ipython",
    "version": 3
   },
   "file_extension": ".py",
   "mimetype": "text/x-python",
   "name": "python",
   "nbconvert_exporter": "python",
   "pygments_lexer": "ipython3",
   "version": "3.13.5"
  }
 },
 "nbformat": 4,
 "nbformat_minor": 5
}
