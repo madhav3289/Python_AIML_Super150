{
 "cells": [
  {
   "cell_type": "markdown",
   "id": "4aefc0df",
   "metadata": {},
   "source": [
    "# Task 3: GaussianNB with Iris or Wine Dataset \n",
    "- Train a GaussianNB classifier on a numeric dataset. \n",
    "- Split data into train/test sets. \n",
    "- Evaluate model performance. \n",
    "- Compare with Logistic Regression or Decision Tree briefly. "
   ]
  },
  {
   "cell_type": "code",
   "execution_count": 23,
   "id": "881e4f18",
   "metadata": {},
   "outputs": [],
   "source": [
    "import pandas as pd\n",
    "from sklearn.datasets import load_iris\n",
    "from sklearn.model_selection import train_test_split\n",
    "from sklearn.metrics import accuracy_score,precision_score,confusion_matrix,classification_report\n",
    "from sklearn.naive_bayes import GaussianNB\n",
    "from sklearn.linear_model import LogisticRegression\n",
    "from sklearn.tree import DecisionTreeClassifier"
   ]
  },
  {
   "cell_type": "code",
   "execution_count": 46,
   "id": "c0c7ce78",
   "metadata": {},
   "outputs": [],
   "source": [
    "data = load_iris()\n",
    "X = data.data\n",
    "y = data.target\n",
    "X_train ,X_test , y_train , y_test = train_test_split(X,y,test_size=0.2,random_state=42)"
   ]
  },
  {
   "cell_type": "code",
   "execution_count": 47,
   "id": "554e2f8b",
   "metadata": {},
   "outputs": [
    {
     "name": "stdout",
     "output_type": "stream",
     "text": [
      "[1 0 2 1 1 0 1 2 1 1 2 0 0 0 0 1 2 1 1 2 0 2 0 2 2 2 2 2 0 0]\n",
      "[1 0 2 1 1 0 1 2 1 1 2 0 0 0 0 1 2 1 1 2 0 2 0 2 2 2 2 2 0 0]\n",
      "Accuracy :  1.0\n",
      "Classification Report :                precision    recall  f1-score   support\n",
      "\n",
      "           0       1.00      1.00      1.00        10\n",
      "           1       1.00      1.00      1.00         9\n",
      "           2       1.00      1.00      1.00        11\n",
      "\n",
      "    accuracy                           1.00        30\n",
      "   macro avg       1.00      1.00      1.00        30\n",
      "weighted avg       1.00      1.00      1.00        30\n",
      "\n"
     ]
    }
   ],
   "source": [
    "model = GaussianNB()\n",
    "model.fit(X_train,y_train)\n",
    "y_pred_gb = model.predict(X_test)\n",
    "print(y_pred_gb)\n",
    "print(y_test)\n",
    "\n",
    "# accuracy \n",
    "print(\"Accuracy : \", accuracy_score(y_test,y_pred_gb))\n",
    "print(\"Classification Report : \", classification_report(y_test,y_pred_gb))"
   ]
  },
  {
   "cell_type": "code",
   "execution_count": 48,
   "id": "5006a5fc",
   "metadata": {},
   "outputs": [
    {
     "name": "stdout",
     "output_type": "stream",
     "text": [
      "[1 0 2 1 1 0 1 2 1 1 2 0 0 0 0 1 2 1 1 2 0 2 0 2 2 2 2 2 0 0]\n",
      "[1 0 2 1 1 0 1 2 1 1 2 0 0 0 0 1 2 1 1 2 0 2 0 2 2 2 2 2 0 0]\n",
      "Accuracy :  1.0\n",
      "Classification Report :                precision    recall  f1-score   support\n",
      "\n",
      "           0       1.00      1.00      1.00        10\n",
      "           1       1.00      1.00      1.00         9\n",
      "           2       1.00      1.00      1.00        11\n",
      "\n",
      "    accuracy                           1.00        30\n",
      "   macro avg       1.00      1.00      1.00        30\n",
      "weighted avg       1.00      1.00      1.00        30\n",
      "\n"
     ]
    }
   ],
   "source": [
    "lr = LogisticRegression()\n",
    "lr.fit(X_train,y_train)\n",
    "y_pred_lr = lr.predict(X_test)\n",
    "print(y_pred_lr)\n",
    "print(y_test)\n",
    "\n",
    "# accuracy \n",
    "print(\"Accuracy : \", accuracy_score(y_test,y_pred_lr))\n",
    "print(\"Classification Report : \", classification_report(y_test,y_pred_lr))"
   ]
  },
  {
   "cell_type": "code",
   "execution_count": 49,
   "id": "56d9f31a",
   "metadata": {},
   "outputs": [
    {
     "name": "stdout",
     "output_type": "stream",
     "text": [
      "[1 0 2 1 1 0 1 2 1 1 2 0 0 0 0 1 2 1 1 2 0 2 0 2 2 2 2 2 0 0]\n",
      "[1 0 2 1 1 0 1 2 1 1 2 0 0 0 0 1 2 1 1 2 0 2 0 2 2 2 2 2 0 0]\n",
      "Accuracy :  1.0\n",
      "Classification Report :                precision    recall  f1-score   support\n",
      "\n",
      "           0       1.00      1.00      1.00        10\n",
      "           1       1.00      1.00      1.00         9\n",
      "           2       1.00      1.00      1.00        11\n",
      "\n",
      "    accuracy                           1.00        30\n",
      "   macro avg       1.00      1.00      1.00        30\n",
      "weighted avg       1.00      1.00      1.00        30\n",
      "\n"
     ]
    }
   ],
   "source": [
    "dt = DecisionTreeClassifier()\n",
    "dt.fit(X_train,y_train)\n",
    "y_pred_dt = dt.predict(X_test)\n",
    "print(y_pred_dt)\n",
    "print(y_test)\n",
    "\n",
    "# accuracy \n",
    "print(\"Accuracy : \", accuracy_score(y_test,y_pred_dt))\n",
    "print(\"Classification Report : \", classification_report(y_test,y_pred_dt))"
   ]
  },
  {
   "cell_type": "code",
   "execution_count": 50,
   "id": "6c448b34",
   "metadata": {},
   "outputs": [
    {
     "data": {
      "text/plain": [
       "Text(0.5, 1.0, 'Guassian')"
      ]
     },
     "execution_count": 50,
     "metadata": {},
     "output_type": "execute_result"
    },
    {
     "data": {
      "image/png": "[encoded data removed]",
      "text/plain": [
       "<Figure size 640x480 with 2 Axes>"
      ]
     },
     "metadata": {},
     "output_type": "display_data"
    }
   ],
   "source": [
    "import seaborn as sns\n",
    "import matplotlib.pyplot as plt\n",
    "\n",
    "sns.heatmap(confusion_matrix(y_test,y_pred_gb),annot=True, cmap='Blues')\n",
    "plt.title(\"Guassian\")"
   ]
  },
  {
   "cell_type": "code",
   "execution_count": 51,
   "id": "e610af7d",
   "metadata": {},
   "outputs": [
    {
     "data": {
      "text/plain": [
       "Text(0.5, 1.0, 'Logistic Regression')"
      ]
     },
     "execution_count": 51,
     "metadata": {},
     "output_type": "execute_result"
    },
    {
     "data": {
      "image/png": "[encoded data removed]",
      "text/plain": [
       "<Figure size 640x480 with 2 Axes>"
      ]
     },
     "metadata": {},
     "output_type": "display_data"
    }
   ],
   "source": [
    "sns.heatmap(confusion_matrix(y_test,y_pred_lr),annot=True, cmap='Greens')\n",
    "plt.title(\"Logistic Regression\")"
   ]
  },
  {
   "cell_type": "code",
   "execution_count": 52,
   "id": "6a61b8bc",
   "metadata": {},
   "outputs": [
    {
     "data": {
      "text/plain": [
       "Text(0.5, 1.0, 'decision Tree')"
      ]
     },
     "execution_count": 52,
     "metadata": {},
     "output_type": "execute_result"
    },
    {
     "data": {
      "image/png": "[encoded data removed]",
      "text/plain": [
       "<Figure size 640x480 with 2 Axes>"
      ]
     },
     "metadata": {},
     "output_type": "display_data"
    }
   ],
   "source": [
    "sns.heatmap(confusion_matrix(y_test,y_pred_dt),annot=True, cmap='coolwarm')\n",
    "plt.title(\"decision Tree\")"
   ]
  },
  {
   "cell_type": "markdown",
   "id": "edb4d2f1",
   "metadata": {},
   "source": [
    "🔍 Use Cases\n",
    "- GaussianNB: Text classification (e.g., spam detection), medical diagnosis, sensor data.\n",
    "\n",
    "- Logistic Regression: Credit scoring, churn prediction, sentiment analysis.\n",
    "\n",
    "- Decision Tree: Customer segmentation, fraud detection, rule-based decision systems."
   ]
  },
  {
   "cell_type": "markdown",
   "id": "767e0bbe",
   "metadata": {},
   "source": [
    "### GuassianNB\n",
    "- Best For Small datasets<br>- Features are continuous and normally distributed\n",
    "- Assumption<br>-Assumes feature independence and Gaussian distribution. Fast and interpretable.\n",
    "\n",
    "### Logistic Regression\n",
    "- Best for Linearly separable data<br>- Binary or multiclass classification\n",
    "- Assumption<br>- Assumes linear relationship between features and log-odds. Good baseline model.\n",
    "\n",
    "### Decision Tree\n",
    "- Non-linear relationships<br>- Mixed feature types (categorical + numeric)\n",
    "- Assumption<br> - No assumptions about data distribution. Can overfit without pruning."
   ]
  }
 ],
 "metadata": {
  "kernelspec": {
   "display_name": "Python 3",
   "language": "python",
   "name": "python3"
  },
  "language_info": {
   "codemirror_mode": {
    "name": "ipython",
    "version": 3
   },
   "file_extension": ".py",
   "mimetype": "text/x-python",
   "name": "python",
   "nbconvert_exporter": "python",
   "pygments_lexer": "ipython3",
   "version": "3.13.5"
  }
 },
 "nbformat": 4,
 "nbformat_minor": 5
}
