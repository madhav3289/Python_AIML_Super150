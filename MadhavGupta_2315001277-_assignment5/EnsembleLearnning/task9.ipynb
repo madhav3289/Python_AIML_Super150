{
 "cells": [
  {
   "cell_type": "markdown",
   "id": "788966a4",
   "metadata": {},
   "source": [
    "# Task 9: AdaBoost or Gradient Boosting \n",
    "- Train an AdaBoostClassifier or GradientBoostingClassifier. \n",
    "- Use a suitable dataset. \n",
    "- Compare it with Random Forest and Decision Tree in terms of: \n",
    "    - Accuracy \n",
    "    - F1-score \n",
    "    - Training time (optional) "
   ]
  },
  {
   "cell_type": "code",
   "execution_count": 19,
   "id": "c1a41a07",
   "metadata": {},
   "outputs": [],
   "source": [
    "from sklearn.ensemble import AdaBoostClassifier, GradientBoostingClassifier , RandomForestClassifier\n",
    "from sklearn.tree import DecisionTreeClassifier\n",
    "from sklearn.model_selection import train_test_split\n",
    "from sklearn.metrics import accuracy_score, f1_score\n",
    "import seaborn as sns\n",
    "import time"
   ]
  },
  {
   "cell_type": "markdown",
   "id": "26885d27",
   "metadata": {},
   "source": [
    "### LOADING , CLEANING AND DIVIDING OF DATASET"
   ]
  },
  {
   "cell_type": "code",
   "execution_count": 24,
   "id": "efee2719",
   "metadata": {},
   "outputs": [],
   "source": [
    "data = sns.load_dataset(\"titanic\")\n",
    "\n",
    "# filled missing values in age as well as embarked\n",
    "data.fillna({'age' : data['age'].median()}, inplace=True)\n",
    "data.fillna({'embarked': data['embarked'].mode()[0]}, inplace=True)\n",
    "\n",
    "\n",
    "# changing into numbers\n",
    "data['sex'] = data['sex'].map({'male':0,'female':1})\n",
    "data[\"embarked\"] = data[\"embarked\"].map({\"S\": 0, \"C\": 1, \"Q\": 2})\n",
    "\n",
    "X = data[['pclass', 'sex', 'age', 'sibsp', 'parch', 'fare', 'embarked']]\n",
    "y = data['survived']\n",
    "\n",
    "\n",
    "X_train, X_test, y_train, y_test = train_test_split(X, y, test_size=0.2, random_state=42)"
   ]
  },
  {
   "cell_type": "markdown",
   "id": "dc1e7ab3",
   "metadata": {},
   "source": [
    "### ADA BOOST CLASSIFIER"
   ]
  },
  {
   "cell_type": "code",
   "execution_count": 25,
   "id": "43b3bac0",
   "metadata": {},
   "outputs": [],
   "source": [
    "start = time.time()\n",
    "ada_model = AdaBoostClassifier(random_state=42)\n",
    "ada_model.fit(X_train, y_train)\n",
    "y_pred_ada = ada_model.predict(X_test)\n",
    "end = time.time()\n",
    "\n",
    "time_eda = end-start\n",
    "accuracy_ada = accuracy_score(y_test, y_pred_ada)\n",
    "f1_ada = f1_score(y_test, y_pred_ada)"
   ]
  },
  {
   "cell_type": "markdown",
   "id": "471bb229",
   "metadata": {},
   "source": [
    "### GRADIENT BOOSTING CLASSIFIER"
   ]
  },
  {
   "cell_type": "code",
   "execution_count": 26,
   "id": "45f68325",
   "metadata": {},
   "outputs": [],
   "source": [
    "start = time.time()\n",
    "gb_model = GradientBoostingClassifier(random_state=42)\n",
    "gb_model.fit(X_train, y_train)\n",
    "y_pred_gb = gb_model.predict(X_test)\n",
    "end = time.time()\n",
    "\n",
    "accuracy_gb = accuracy_score(y_test, y_pred_gb)\n",
    "f1_gb = f1_score(y_test, y_pred_gb)\n",
    "time_gb = end - start"
   ]
  },
  {
   "cell_type": "markdown",
   "id": "76a5ad10",
   "metadata": {},
   "source": [
    "### DECISION TREE CLASSIFIER"
   ]
  },
  {
   "cell_type": "code",
   "execution_count": 27,
   "id": "d4876b47",
   "metadata": {},
   "outputs": [],
   "source": [
    "start = time.time()\n",
    "model_dt = DecisionTreeClassifier(random_state=42)\n",
    "model_dt.fit(X_train,y_train)\n",
    "y_pred_dt = model_dt.predict(X_test)\n",
    "end = time.time()\n",
    "\n",
    "accuracy_dt = accuracy_score(y_test, y_pred_dt)\n",
    "f1_dt = f1_score(y_test, y_pred_dt)\n",
    "time_dt = end - start"
   ]
  },
  {
   "cell_type": "markdown",
   "id": "e923e731",
   "metadata": {},
   "source": [
    "### RANDOM FOREST CLASSIFIER"
   ]
  },
  {
   "cell_type": "code",
   "execution_count": 28,
   "id": "a42cfd48",
   "metadata": {},
   "outputs": [],
   "source": [
    "start = time.time()\n",
    "model_rf = RandomForestClassifier(random_state=42)\n",
    "model_rf.fit(X_train,y_train)\n",
    "y_pred_rf = model_rf.predict(X_test)\n",
    "end = time.time()\n",
    "\n",
    "accuracy_rf = accuracy_score(y_test, y_pred_rf)\n",
    "f1_rf = f1_score(y_test, y_pred_rf)\n",
    "time_rf = end - start"
   ]
  },
  {
   "cell_type": "code",
   "execution_count": 29,
   "id": "a27a1234",
   "metadata": {},
   "outputs": [
    {
     "name": "stdout",
     "output_type": "stream",
     "text": [
      "accuracy of AdaBoostClassifier :  0.7988826815642458\n",
      "accuracy of gradient Boost Classifier :  0.8044692737430168\n",
      "accuracy of DecisionTreeClassifier :  0.7988826815642458\n",
      "accuracy of RandomForestClassifier :  0.8268156424581006\n"
     ]
    }
   ],
   "source": [
    "print(\"accuracy of AdaBoostClassifier : \",accuracy_ada)\n",
    "print(\"accuracy of gradient Boost Classifier : \",accuracy_gb)\n",
    "print(\"accuracy of DecisionTreeClassifier : \",accuracy_dt)\n",
    "print(\"accuracy of RandomForestClassifier : \",accuracy_rf)"
   ]
  },
  {
   "cell_type": "code",
   "execution_count": 30,
   "id": "71045334",
   "metadata": {},
   "outputs": [
    {
     "name": "stdout",
     "output_type": "stream",
     "text": [
      "f1 score of AdaBoostClassifier :  0.7428571428571429\n",
      "f1 score of gradient Boost Classifier :  0.7407407407407407\n",
      "f1 score of decisionTreeClassifier :  0.7567567567567568\n",
      "f1 score of RandomForestClassifier :  0.7832167832167832\n"
     ]
    }
   ],
   "source": [
    "print(\"f1 score of AdaBoostClassifier : \",f1_ada)\n",
    "print(\"f1 score of gradient Boost Classifier : \",f1_gb)\n",
    "print(\"f1 score of decisionTreeClassifier : \",f1_dt)\n",
    "print(\"f1 score of RandomForestClassifier : \",f1_rf)"
   ]
  },
  {
   "cell_type": "code",
   "execution_count": 31,
   "id": "9752bcb2",
   "metadata": {},
   "outputs": [
    {
     "name": "stdout",
     "output_type": "stream",
     "text": [
      "time taken by AdaBoostClassifier :  0.054831504821777344\n",
      "time taken by gradient Boost Classifier :  0.09036874771118164\n",
      "time taken by DecisionTreeClassifier :  0.006314754486083984\n",
      "time taken by RandomForestClassifier :  0.09903264045715332\n"
     ]
    }
   ],
   "source": [
    "print(\"time taken by AdaBoostClassifier : \",time_eda)\n",
    "print(\"time taken by gradient Boost Classifier : \",time_gb)\n",
    "print(\"time taken by DecisionTreeClassifier : \",time_dt)\n",
    "print(\"time taken by RandomForestClassifier : \",time_rf)"
   ]
  }
 ],
 "metadata": {
  "kernelspec": {
   "display_name": "Python 3",
   "language": "python",
   "name": "python3"
  },
  "language_info": {
   "codemirror_mode": {
    "name": "ipython",
    "version": 3
   },
   "file_extension": ".py",
   "mimetype": "text/x-python",
   "name": "python",
   "nbconvert_exporter": "python",
   "pygments_lexer": "ipython3",
   "version": "3.13.5"
  }
 },
 "nbformat": 4,
 "nbformat_minor": 5
}
