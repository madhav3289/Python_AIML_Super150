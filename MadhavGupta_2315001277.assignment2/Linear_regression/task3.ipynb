{
 "cells": [
  {
   "cell_type": "markdown",
   "id": "ed78fa5b",
   "metadata": {},
   "source": [
    "# Feature Scaling and Normalization"
   ]
  },
  {
   "cell_type": "code",
   "execution_count": 15,
   "id": "08fee524",
   "metadata": {},
   "outputs": [],
   "source": [
    "# ● Demonstrate the effect of standardizing features using StandardScaler. \n",
    "# ● Compare model performance before and after scaling."
   ]
  },
  {
   "cell_type": "code",
   "execution_count": 16,
   "id": "ad00474c",
   "metadata": {},
   "outputs": [],
   "source": [
    "from sklearn.datasets import fetch_california_housing\n",
    "from sklearn.model_selection import train_test_split\n",
    "from sklearn.preprocessing import StandardScaler\n",
    "from sklearn.linear_model import LinearRegression\n",
    "from sklearn.metrics import mean_squared_error, r2_score\n",
    "import numpy as np"
   ]
  },
  {
   "cell_type": "code",
   "execution_count": 17,
   "id": "25624707",
   "metadata": {},
   "outputs": [
    {
     "name": "stdout",
     "output_type": "stream",
     "text": [
      "['MedInc', 'HouseAge', 'AveRooms', 'AveBedrms', 'Population', 'AveOccup', 'Latitude', 'Longitude']\n",
      "['MedHouseVal']\n"
     ]
    }
   ],
   "source": [
    "data = fetch_california_housing()\n",
    "x = data.data\n",
    "y = data.target\n",
    "print(data.feature_names)\n",
    "print(data.target_names)"
   ]
  },
  {
   "cell_type": "code",
   "execution_count": 18,
   "id": "121d4a27",
   "metadata": {},
   "outputs": [],
   "source": [
    "X_train, X_test, y_train, y_test = train_test_split(x, y, test_size=0.2, random_state=42)"
   ]
  },
  {
   "cell_type": "code",
   "execution_count": 19,
   "id": "65408024",
   "metadata": {},
   "outputs": [
    {
     "name": "stdout",
     "output_type": "stream",
     "text": [
      "[0.71912284 1.76401657 2.70965883 ... 4.46877017 1.18751119 2.00940251]\n",
      "[0.477   0.458   5.00001 ... 5.00001 0.723   1.515  ]\n"
     ]
    }
   ],
   "source": [
    "# trained using all features wothout scaling\n",
    "raw_model = LinearRegression()\n",
    "raw_model.fit(X_train,y_train)\n",
    "y_pred = raw_model.predict(X_test)\n",
    "print(y_pred)\n",
    "print(y_test)"
   ]
  },
  {
   "cell_type": "code",
   "execution_count": 20,
   "id": "6aa60b14",
   "metadata": {},
   "outputs": [
    {
     "name": "stdout",
     "output_type": "stream",
     "text": [
      "[0.71912284 1.76401657 2.70965883 ... 4.46877017 1.18751119 2.00940251]\n",
      "[0.477   0.458   5.00001 ... 5.00001 0.723   1.515  ]\n"
     ]
    }
   ],
   "source": [
    "scaler = StandardScaler()\n",
    "X_train_scaled = scaler.fit_transform(X_train)\n",
    "X_test_scaled = scaler.transform(X_test)\n",
    "\n",
    "\n",
    "model_scaled = LinearRegression()\n",
    "model_scaled.fit(X_train_scaled, y_train)\n",
    "y_pred_scaled = model_scaled.predict(X_test_scaled)\n",
    "\n",
    "print(y_pred_scaled)\n",
    "print(y_test)"
   ]
  },
  {
   "cell_type": "code",
   "execution_count": 21,
   "id": "91f716f6",
   "metadata": {},
   "outputs": [
    {
     "name": "stdout",
     "output_type": "stream",
     "text": [
      "Without Scaling\n",
      "Score :  0.5757877060324521\n",
      "R² Score: 0.5757877060324521\n",
      "MSE : 0.5558915986952425\n",
      "RMSE: 0.7455813830127751\n",
      "\n",
      "With Scaling\n",
      "Score :  0.575787706032451\n",
      "R² Score: 0.575787706032451\n",
      "MSE : 0.5558915986952442\n",
      "RMSE: 0.7455813830127763\n"
     ]
    }
   ],
   "source": [
    "print(\"Without Scaling\")\n",
    "print(\"Score : \",raw_model.score(X_test,y_test))\n",
    "print(\"R² Score:\", r2_score(y_test, y_pred))\n",
    "print(\"MSE :\", mean_squared_error(y_test, y_pred))\n",
    "print(\"RMSE:\", np.sqrt(mean_squared_error(y_test, y_pred)))\n",
    "\n",
    "print()\n",
    "print(\"With Scaling\")\n",
    "print(\"Score : \",model_scaled.score(X_test_scaled,y_test))\n",
    "print(\"R² Score:\", r2_score(y_test, y_pred_scaled))\n",
    "print(\"MSE :\", mean_squared_error(y_test, y_pred_scaled))\n",
    "print(\"RMSE:\", np.sqrt(mean_squared_error(y_test, y_pred_scaled)))"
   ]
  }
 ],
 "metadata": {
  "kernelspec": {
   "display_name": "Python 3",
   "language": "python",
   "name": "python3"
  },
  "language_info": {
   "codemirror_mode": {
    "name": "ipython",
    "version": 3
   },
   "file_extension": ".py",
   "mimetype": "text/x-python",
   "name": "python",
   "nbconvert_exporter": "python",
   "pygments_lexer": "ipython3",
   "version": "3.13.5"
  }
 },
 "nbformat": 4,
 "nbformat_minor": 5
}
